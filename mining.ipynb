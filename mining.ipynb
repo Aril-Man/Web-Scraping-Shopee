{
 "cells": [
  {
   "cell_type": "code",
   "execution_count": 1,
   "metadata": {},
   "outputs": [],
   "source": [
    "import pandas as pd"
   ]
  },
  {
   "cell_type": "code",
   "execution_count": 24,
   "metadata": {},
   "outputs": [
    {
     "data": {
      "text/html": [
       "<div>\n",
       "<style scoped>\n",
       "    .dataframe tbody tr th:only-of-type {\n",
       "        vertical-align: middle;\n",
       "    }\n",
       "\n",
       "    .dataframe tbody tr th {\n",
       "        vertical-align: top;\n",
       "    }\n",
       "\n",
       "    .dataframe thead th {\n",
       "        text-align: right;\n",
       "    }\n",
       "</style>\n",
       "<table border=\"1\" class=\"dataframe\">\n",
       "  <thead>\n",
       "    <tr style=\"text-align: right;\">\n",
       "      <th></th>\n",
       "      <th>merk</th>\n",
       "      <th>price</th>\n",
       "      <th>location</th>\n",
       "      <th>buy</th>\n",
       "    </tr>\n",
       "  </thead>\n",
       "  <tbody>\n",
       "    <tr>\n",
       "      <th>0</th>\n",
       "      <td>24-inci 144Hz monitor komputer LCD, desktop ka...</td>\n",
       "      <td>Rp1.659.000 - Rp2.299.000</td>\n",
       "      <td>KAB. TANGERANG</td>\n",
       "      <td>665 Terjual</td>\n",
       "    </tr>\n",
       "    <tr>\n",
       "      <th>1</th>\n",
       "      <td>MIIGO Layar melengkung 24 inci, layar besar me...</td>\n",
       "      <td>Rp1.759.000</td>\n",
       "      <td>KOTA SURABAYA</td>\n",
       "      <td>8 Terjual</td>\n",
       "    </tr>\n",
       "    <tr>\n",
       "      <th>2</th>\n",
       "      <td>Terbaru 24-inci 75Hz monitor komputer LED Moni...</td>\n",
       "      <td>Rp1.659.000 - Rp1.759.000</td>\n",
       "      <td>KOTA SURABAYA</td>\n",
       "      <td>2 Terjual</td>\n",
       "    </tr>\n",
       "    <tr>\n",
       "      <th>3</th>\n",
       "      <td>PC Gaming Editing core i7 Ram 16 gb Ssd 240 gb...</td>\n",
       "      <td>Rp5.350.000 - Rp5.695.000</td>\n",
       "      <td>KOTA BANDUNG</td>\n",
       "      <td>487 Terjual</td>\n",
       "    </tr>\n",
       "    <tr>\n",
       "      <th>4</th>\n",
       "      <td>MIIGO  Layar tatap muka 24 inci, layar tanpa b...</td>\n",
       "      <td>Rp1.659.000 - Rp2.399.000</td>\n",
       "      <td>KOTA SURABAYA</td>\n",
       "      <td>8 Terjual</td>\n",
       "    </tr>\n",
       "    <tr>\n",
       "      <th>5</th>\n",
       "      <td>xiaomi monitor ultrawide curved</td>\n",
       "      <td>Rp1.010.000</td>\n",
       "      <td>KOTA TANGERANG</td>\n",
       "      <td>NaN</td>\n",
       "    </tr>\n",
       "    <tr>\n",
       "      <th>6</th>\n",
       "      <td>Monitor Xiaomi Mi 1C LED 24 Inch Desktop Low B...</td>\n",
       "      <td>Rp1.965.000</td>\n",
       "      <td>KOTA JAKARTA PUSAT</td>\n",
       "      <td>63 Terjual</td>\n",
       "    </tr>\n",
       "    <tr>\n",
       "      <th>7</th>\n",
       "      <td>Monitor LED Xiaomi Mi 27\" FULL HD Layar IPS Be...</td>\n",
       "      <td>Rp2.507.000</td>\n",
       "      <td>KOTA MEDAN</td>\n",
       "      <td>7 Terjual</td>\n",
       "    </tr>\n",
       "    <tr>\n",
       "      <th>8</th>\n",
       "      <td>Xiaomi Mi Desktop Monitor 27\" Layar IPS 1080P ...</td>\n",
       "      <td>Rp2.495.000</td>\n",
       "      <td>KOTA JAKARTA PUSAT</td>\n",
       "      <td>157 Terjual</td>\n",
       "    </tr>\n",
       "    <tr>\n",
       "      <th>9</th>\n",
       "      <td>Xiaomi Mi Desktop Monitor 27\" 27 inch - Garans...</td>\n",
       "      <td>Rp2.489.000</td>\n",
       "      <td>KOTA SURABAYA</td>\n",
       "      <td>25 Terjual</td>\n",
       "    </tr>\n",
       "    <tr>\n",
       "      <th>10</th>\n",
       "      <td>Monitor Xiaomi Mi LED 27 Inch IPS 75Hz Desktop...</td>\n",
       "      <td>Rp2.499.000</td>\n",
       "      <td>KOTA JAKARTA PUSAT</td>\n",
       "      <td>39 Terjual</td>\n",
       "    </tr>\n",
       "    <tr>\n",
       "      <th>11</th>\n",
       "      <td>Xiaomi Mi Desktop Monitor 27\" Layar IPS 1080P ...</td>\n",
       "      <td>Rp2.489.000</td>\n",
       "      <td>KOTA JAKARTA PUSAT</td>\n",
       "      <td>4 Terjual</td>\n",
       "    </tr>\n",
       "    <tr>\n",
       "      <th>12</th>\n",
       "      <td>LED Monitor Xiaomi MI 27\" 75Hz FHD HDMI VGA - ...</td>\n",
       "      <td>Rp2.514.000</td>\n",
       "      <td>KOTA SEMARANG</td>\n",
       "      <td>17 Terjual</td>\n",
       "    </tr>\n",
       "    <tr>\n",
       "      <th>13</th>\n",
       "      <td>Mi 23.8 Desktop Monitor 1C 60Hz 6ms - Monitor ...</td>\n",
       "      <td>Rp1.975.000</td>\n",
       "      <td>KOTA BANDUNG</td>\n",
       "      <td>36 Terjual</td>\n",
       "    </tr>\n",
       "    <tr>\n",
       "      <th>14</th>\n",
       "      <td>Xiaomi Monitor Gaming Curved 34 inch 27 Inch 1...</td>\n",
       "      <td>Rp4.999.000 - Rp5.525.000</td>\n",
       "      <td>KOTA JAKARTA UTARA</td>\n",
       "      <td>271 Terjual</td>\n",
       "    </tr>\n",
       "    <tr>\n",
       "      <th>15</th>\n",
       "      <td>Xiaomi Mi 23.8'' Desktop Monitor 1C Bezel Less...</td>\n",
       "      <td>Rp1.999.000</td>\n",
       "      <td>KOTA JAKARTA PUSAT</td>\n",
       "      <td>1 Terjual</td>\n",
       "    </tr>\n",
       "    <tr>\n",
       "      <th>16</th>\n",
       "      <td>Xiaomi Monitor Gaming 144Hz 34 inch Curved WQH...</td>\n",
       "      <td>Rp5.449.000 - Rp5.499.000</td>\n",
       "      <td>KOTA JAKARTA SELATAN</td>\n",
       "      <td>2 Terjual</td>\n",
       "    </tr>\n",
       "    <tr>\n",
       "      <th>17</th>\n",
       "      <td>FREEONGKIR! XIOAMI Redmi Gaming Monitor Full H...</td>\n",
       "      <td>Rp2.498.000</td>\n",
       "      <td>KOTA BEKASI</td>\n",
       "      <td>103 Terjual</td>\n",
       "    </tr>\n",
       "    <tr>\n",
       "      <th>18</th>\n",
       "      <td>Mi 23.8\" Dekstop Monitor 1C 60Hz 6ms IPS (Xiao...</td>\n",
       "      <td>Rp1.949.000</td>\n",
       "      <td>KOTA JAKARTA PUSAT</td>\n",
       "      <td>38 Terjual</td>\n",
       "    </tr>\n",
       "    <tr>\n",
       "      <th>19</th>\n",
       "      <td>XIAOMI MI 23,8'' DEKSTOP MONITOR 1C FULL HD</td>\n",
       "      <td>Rp2.045.000</td>\n",
       "      <td>KOTA BANDUNG</td>\n",
       "      <td>1 Terjual</td>\n",
       "    </tr>\n",
       "  </tbody>\n",
       "</table>\n",
       "</div>"
      ],
      "text/plain": [
       "                                                 merk  \\\n",
       "0   24-inci 144Hz monitor komputer LCD, desktop ka...   \n",
       "1   MIIGO Layar melengkung 24 inci, layar besar me...   \n",
       "2   Terbaru 24-inci 75Hz monitor komputer LED Moni...   \n",
       "3   PC Gaming Editing core i7 Ram 16 gb Ssd 240 gb...   \n",
       "4   MIIGO  Layar tatap muka 24 inci, layar tanpa b...   \n",
       "5                     xiaomi monitor ultrawide curved   \n",
       "6   Monitor Xiaomi Mi 1C LED 24 Inch Desktop Low B...   \n",
       "7   Monitor LED Xiaomi Mi 27\" FULL HD Layar IPS Be...   \n",
       "8   Xiaomi Mi Desktop Monitor 27\" Layar IPS 1080P ...   \n",
       "9   Xiaomi Mi Desktop Monitor 27\" 27 inch - Garans...   \n",
       "10  Monitor Xiaomi Mi LED 27 Inch IPS 75Hz Desktop...   \n",
       "11  Xiaomi Mi Desktop Monitor 27\" Layar IPS 1080P ...   \n",
       "12  LED Monitor Xiaomi MI 27\" 75Hz FHD HDMI VGA - ...   \n",
       "13  Mi 23.8 Desktop Monitor 1C 60Hz 6ms - Monitor ...   \n",
       "14  Xiaomi Monitor Gaming Curved 34 inch 27 Inch 1...   \n",
       "15  Xiaomi Mi 23.8'' Desktop Monitor 1C Bezel Less...   \n",
       "16  Xiaomi Monitor Gaming 144Hz 34 inch Curved WQH...   \n",
       "17  FREEONGKIR! XIOAMI Redmi Gaming Monitor Full H...   \n",
       "18  Mi 23.8\" Dekstop Monitor 1C 60Hz 6ms IPS (Xiao...   \n",
       "19        XIAOMI MI 23,8'' DEKSTOP MONITOR 1C FULL HD   \n",
       "\n",
       "                        price              location          buy  \n",
       "0   Rp1.659.000 - Rp2.299.000        KAB. TANGERANG  665 Terjual  \n",
       "1                 Rp1.759.000         KOTA SURABAYA    8 Terjual  \n",
       "2   Rp1.659.000 - Rp1.759.000         KOTA SURABAYA    2 Terjual  \n",
       "3   Rp5.350.000 - Rp5.695.000          KOTA BANDUNG  487 Terjual  \n",
       "4   Rp1.659.000 - Rp2.399.000         KOTA SURABAYA    8 Terjual  \n",
       "5                 Rp1.010.000        KOTA TANGERANG          NaN  \n",
       "6                 Rp1.965.000    KOTA JAKARTA PUSAT   63 Terjual  \n",
       "7                 Rp2.507.000            KOTA MEDAN    7 Terjual  \n",
       "8                 Rp2.495.000    KOTA JAKARTA PUSAT  157 Terjual  \n",
       "9                 Rp2.489.000         KOTA SURABAYA   25 Terjual  \n",
       "10                Rp2.499.000    KOTA JAKARTA PUSAT   39 Terjual  \n",
       "11                Rp2.489.000    KOTA JAKARTA PUSAT    4 Terjual  \n",
       "12                Rp2.514.000         KOTA SEMARANG   17 Terjual  \n",
       "13                Rp1.975.000          KOTA BANDUNG   36 Terjual  \n",
       "14  Rp4.999.000 - Rp5.525.000    KOTA JAKARTA UTARA  271 Terjual  \n",
       "15                Rp1.999.000    KOTA JAKARTA PUSAT    1 Terjual  \n",
       "16  Rp5.449.000 - Rp5.499.000  KOTA JAKARTA SELATAN    2 Terjual  \n",
       "17                Rp2.498.000           KOTA BEKASI  103 Terjual  \n",
       "18                Rp1.949.000    KOTA JAKARTA PUSAT   38 Terjual  \n",
       "19                Rp2.045.000          KOTA BANDUNG    1 Terjual  "
      ]
     },
     "execution_count": 24,
     "metadata": {},
     "output_type": "execute_result"
    }
   ],
   "source": [
    "dataset = pd.read_csv('hasil/hasil_scaping_Monitor Xiomi_page-0.csv')\n",
    "\n",
    "dataset.head(20)"
   ]
  },
  {
   "cell_type": "code",
   "execution_count": 25,
   "metadata": {},
   "outputs": [
    {
     "data": {
      "text/plain": [
       "merk         0\n",
       "price        0\n",
       "location     0\n",
       "buy         11\n",
       "dtype: int64"
      ]
     },
     "execution_count": 25,
     "metadata": {},
     "output_type": "execute_result"
    }
   ],
   "source": [
    "dataset.isnull().sum()"
   ]
  },
  {
   "cell_type": "code",
   "execution_count": 26,
   "metadata": {},
   "outputs": [
    {
     "data": {
      "text/plain": [
       "0    Rp1.659.000 - Rp2.299.000\n",
       "1                  Rp1.759.000\n",
       "2    Rp1.659.000 - Rp1.759.000\n",
       "3    Rp5.350.000 - Rp5.695.000\n",
       "4    Rp1.659.000 - Rp2.399.000\n",
       "Name: price, dtype: object"
      ]
     },
     "execution_count": 26,
     "metadata": {},
     "output_type": "execute_result"
    }
   ],
   "source": [
    "data_price = dataset['price']\n",
    "\n",
    "data_price.head()"
   ]
  },
  {
   "cell_type": "code",
   "execution_count": 27,
   "metadata": {},
   "outputs": [
    {
     "data": {
      "text/plain": [
       "'Rp6.999.000'"
      ]
     },
     "execution_count": 27,
     "metadata": {},
     "output_type": "execute_result"
    }
   ],
   "source": [
    "data_price.max()"
   ]
  },
  {
   "cell_type": "code",
   "execution_count": 14,
   "metadata": {},
   "outputs": [
    {
     "data": {
      "text/plain": [
       "'Rp1.250'"
      ]
     },
     "execution_count": 14,
     "metadata": {},
     "output_type": "execute_result"
    }
   ],
   "source": [
    "data_price.min()"
   ]
  }
 ],
 "metadata": {
  "kernelspec": {
   "display_name": "Python 3.10.4 64-bit",
   "language": "python",
   "name": "python3"
  },
  "language_info": {
   "codemirror_mode": {
    "name": "ipython",
    "version": 3
   },
   "file_extension": ".py",
   "mimetype": "text/x-python",
   "name": "python",
   "nbconvert_exporter": "python",
   "pygments_lexer": "ipython3",
   "version": "3.10.4"
  },
  "orig_nbformat": 4,
  "vscode": {
   "interpreter": {
    "hash": "5685a135e92ac552e415bbf2c469fb5f0510d4bb231ecd69865a8486da96369f"
   }
  }
 },
 "nbformat": 4,
 "nbformat_minor": 2
}
