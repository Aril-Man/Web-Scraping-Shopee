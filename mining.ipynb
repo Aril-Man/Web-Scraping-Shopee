{
 "cells": [
  {
   "cell_type": "code",
   "execution_count": 1,
   "metadata": {},
   "outputs": [],
   "source": [
    "import pandas as pd"
   ]
  },
  {
   "cell_type": "code",
   "execution_count": 15,
   "metadata": {},
   "outputs": [
    {
     "data": {
      "text/html": [
       "<div>\n",
       "<style scoped>\n",
       "    .dataframe tbody tr th:only-of-type {\n",
       "        vertical-align: middle;\n",
       "    }\n",
       "\n",
       "    .dataframe tbody tr th {\n",
       "        vertical-align: top;\n",
       "    }\n",
       "\n",
       "    .dataframe thead th {\n",
       "        text-align: right;\n",
       "    }\n",
       "</style>\n",
       "<table border=\"1\" class=\"dataframe\">\n",
       "  <thead>\n",
       "    <tr style=\"text-align: right;\">\n",
       "      <th></th>\n",
       "      <th>merk</th>\n",
       "      <th>price</th>\n",
       "      <th>location</th>\n",
       "      <th>buy</th>\n",
       "    </tr>\n",
       "  </thead>\n",
       "  <tbody>\n",
       "    <tr>\n",
       "      <th>0</th>\n",
       "      <td>XIAOMI REDMI 10C 4/64GB [ BUNDLING KARTU SMART...</td>\n",
       "      <td>Rp1.899.000</td>\n",
       "      <td>KOTA BANJARMASIN</td>\n",
       "      <td>58 Terjual</td>\n",
       "    </tr>\n",
       "    <tr>\n",
       "      <th>1</th>\n",
       "      <td>Xiaomi Redmi 9a RAM 4GB/128GB 5MP depan 13MP k...</td>\n",
       "      <td>Rp1.280.000 - Rp1.400.000</td>\n",
       "      <td>KOTA BEKASI</td>\n",
       "      <td>224 Terjual</td>\n",
       "    </tr>\n",
       "    <tr>\n",
       "      <th>2</th>\n",
       "      <td>handphone vivo Y20s G ram6 128GB 6.5-inch hp s...</td>\n",
       "      <td>Rp1.850.000 - Rp2.350.000</td>\n",
       "      <td>KOTA JAKARTA UTARA</td>\n",
       "      <td>501 Terjual</td>\n",
       "    </tr>\n",
       "    <tr>\n",
       "      <th>3</th>\n",
       "      <td>[ONLINE EXCLUSIVE] vivo T1 5G (8/128) - Dimens...</td>\n",
       "      <td>Rp3.199.000</td>\n",
       "      <td>KAB. TANGERANG</td>\n",
       "      <td>7,9RB Terjual</td>\n",
       "    </tr>\n",
       "    <tr>\n",
       "      <th>4</th>\n",
       "      <td>GALAXY A52S 12GB/512GB Handphone Smartphone 4G...</td>\n",
       "      <td>Rp1.125.000 - Rp1.220.000</td>\n",
       "      <td>KOTA TANGERANG</td>\n",
       "      <td>412 Terjual</td>\n",
       "    </tr>\n",
       "    <tr>\n",
       "      <th>5</th>\n",
       "      <td>Xiaomi Redmi 9T 4/64GB FULLSET SEGEL MULUS</td>\n",
       "      <td>Rp1.549.000</td>\n",
       "      <td>KOTA SURABAYA</td>\n",
       "      <td>NaN</td>\n",
       "    </tr>\n",
       "    <tr>\n",
       "      <th>6</th>\n",
       "      <td>REDMI 9T RAM 4 INTERNAL 64</td>\n",
       "      <td>Rp1.750.000</td>\n",
       "      <td>KAB. LAMONGAN</td>\n",
       "      <td>NaN</td>\n",
       "    </tr>\n",
       "    <tr>\n",
       "      <th>7</th>\n",
       "      <td>Redmi 9T 6/128</td>\n",
       "      <td>Rp2.300.000</td>\n",
       "      <td>KAB. KLATEN</td>\n",
       "      <td>NaN</td>\n",
       "    </tr>\n",
       "    <tr>\n",
       "      <th>8</th>\n",
       "      <td>redmi 9t 4/64 second</td>\n",
       "      <td>Rp1.580.000</td>\n",
       "      <td>KAB. KUDUS</td>\n",
       "      <td>NaN</td>\n",
       "    </tr>\n",
       "    <tr>\n",
       "      <th>9</th>\n",
       "      <td>REDMI 9T 4/64 FULLSET GARANSI RESMI</td>\n",
       "      <td>Rp1.700.000</td>\n",
       "      <td>KOTA JAKARTA SELATAN</td>\n",
       "      <td>NaN</td>\n",
       "    </tr>\n",
       "    <tr>\n",
       "      <th>10</th>\n",
       "      <td>REDMI 9T 4/64 GB &amp; 6/128  GB BEKAS ORIGINAL FU...</td>\n",
       "      <td>Rp1.744.200 - Rp1.998.000</td>\n",
       "      <td>KAB. BOGOR</td>\n",
       "      <td>54 Terjual</td>\n",
       "    </tr>\n",
       "    <tr>\n",
       "      <th>11</th>\n",
       "      <td>XIAOMI REDMI 9T (NFC) RAM [6/128GB][6/128GB] Q...</td>\n",
       "      <td>Rp1.499.000 - Rp2.249.000</td>\n",
       "      <td>KOTA BOGOR</td>\n",
       "      <td>6 Terjual</td>\n",
       "    </tr>\n",
       "    <tr>\n",
       "      <th>12</th>\n",
       "      <td>REDMI 9T 4/64</td>\n",
       "      <td>Rp1.750.000</td>\n",
       "      <td>KOTA JAKARTA PUSAT</td>\n",
       "      <td>NaN</td>\n",
       "    </tr>\n",
       "    <tr>\n",
       "      <th>13</th>\n",
       "      <td>Xiaomi Redmi 9T</td>\n",
       "      <td>Rp2.099.000</td>\n",
       "      <td>KAB. MAJALENGKA</td>\n",
       "      <td>NaN</td>\n",
       "    </tr>\n",
       "    <tr>\n",
       "      <th>14</th>\n",
       "      <td>XIAOMI REDMI 9T 4/64 &amp; 6/128 FULSET GARANSI RESMI</td>\n",
       "      <td>Rp1.799.000 - Rp2.250.000</td>\n",
       "      <td>KAB. PACITAN</td>\n",
       "      <td>157 Terjual</td>\n",
       "    </tr>\n",
       "    <tr>\n",
       "      <th>15</th>\n",
       "      <td>hp redmi note 9t ram 6/128 istimewa bekas/seco...</td>\n",
       "      <td>Rp2.000.000</td>\n",
       "      <td>KAB. WONOSOBO</td>\n",
       "      <td>NaN</td>\n",
       "    </tr>\n",
       "    <tr>\n",
       "      <th>16</th>\n",
       "      <td>XIAOMI REDMI 9T 6/128GB Qualcomm SM6115 Snapdr...</td>\n",
       "      <td>Rp1.930.000 - Rp2.330.000</td>\n",
       "      <td>KOTA JAKARTA BARAT</td>\n",
       "      <td>NaN</td>\n",
       "    </tr>\n",
       "    <tr>\n",
       "      <th>17</th>\n",
       "      <td>XIAOMI REDMI 9T NOT APPLE SAMSUNG REALME</td>\n",
       "      <td>Rp1.800.000</td>\n",
       "      <td>KAB. MADIUN</td>\n",
       "      <td>NaN</td>\n",
       "    </tr>\n",
       "    <tr>\n",
       "      <th>18</th>\n",
       "      <td>XIAOMI REDMI 9T RAM [6/128GB][6/128GB] SNAPDRA...</td>\n",
       "      <td>Rp1.499.000 - Rp1.899.000</td>\n",
       "      <td>KOTA BOGOR</td>\n",
       "      <td>61 Terjual</td>\n",
       "    </tr>\n",
       "    <tr>\n",
       "      <th>19</th>\n",
       "      <td>redmi 9t super like new 2 minggu pakai</td>\n",
       "      <td>Rp1.699.999</td>\n",
       "      <td>KAB. MALANG</td>\n",
       "      <td>NaN</td>\n",
       "    </tr>\n",
       "  </tbody>\n",
       "</table>\n",
       "</div>"
      ],
      "text/plain": [
       "                                                 merk  \\\n",
       "0   XIAOMI REDMI 10C 4/64GB [ BUNDLING KARTU SMART...   \n",
       "1   Xiaomi Redmi 9a RAM 4GB/128GB 5MP depan 13MP k...   \n",
       "2   handphone vivo Y20s G ram6 128GB 6.5-inch hp s...   \n",
       "3   [ONLINE EXCLUSIVE] vivo T1 5G (8/128) - Dimens...   \n",
       "4   GALAXY A52S 12GB/512GB Handphone Smartphone 4G...   \n",
       "5          Xiaomi Redmi 9T 4/64GB FULLSET SEGEL MULUS   \n",
       "6                          REDMI 9T RAM 4 INTERNAL 64   \n",
       "7                                      Redmi 9T 6/128   \n",
       "8                                redmi 9t 4/64 second   \n",
       "9                 REDMI 9T 4/64 FULLSET GARANSI RESMI   \n",
       "10  REDMI 9T 4/64 GB & 6/128  GB BEKAS ORIGINAL FU...   \n",
       "11  XIAOMI REDMI 9T (NFC) RAM [6/128GB][6/128GB] Q...   \n",
       "12                                      REDMI 9T 4/64   \n",
       "13                                    Xiaomi Redmi 9T   \n",
       "14  XIAOMI REDMI 9T 4/64 & 6/128 FULSET GARANSI RESMI   \n",
       "15  hp redmi note 9t ram 6/128 istimewa bekas/seco...   \n",
       "16  XIAOMI REDMI 9T 6/128GB Qualcomm SM6115 Snapdr...   \n",
       "17           XIAOMI REDMI 9T NOT APPLE SAMSUNG REALME   \n",
       "18  XIAOMI REDMI 9T RAM [6/128GB][6/128GB] SNAPDRA...   \n",
       "19             redmi 9t super like new 2 minggu pakai   \n",
       "\n",
       "                        price              location            buy  \n",
       "0                 Rp1.899.000      KOTA BANJARMASIN     58 Terjual  \n",
       "1   Rp1.280.000 - Rp1.400.000           KOTA BEKASI    224 Terjual  \n",
       "2   Rp1.850.000 - Rp2.350.000    KOTA JAKARTA UTARA    501 Terjual  \n",
       "3                 Rp3.199.000        KAB. TANGERANG  7,9RB Terjual  \n",
       "4   Rp1.125.000 - Rp1.220.000        KOTA TANGERANG    412 Terjual  \n",
       "5                 Rp1.549.000         KOTA SURABAYA            NaN  \n",
       "6                 Rp1.750.000         KAB. LAMONGAN            NaN  \n",
       "7                 Rp2.300.000           KAB. KLATEN            NaN  \n",
       "8                 Rp1.580.000            KAB. KUDUS            NaN  \n",
       "9                 Rp1.700.000  KOTA JAKARTA SELATAN            NaN  \n",
       "10  Rp1.744.200 - Rp1.998.000            KAB. BOGOR     54 Terjual  \n",
       "11  Rp1.499.000 - Rp2.249.000            KOTA BOGOR      6 Terjual  \n",
       "12                Rp1.750.000    KOTA JAKARTA PUSAT            NaN  \n",
       "13                Rp2.099.000       KAB. MAJALENGKA            NaN  \n",
       "14  Rp1.799.000 - Rp2.250.000          KAB. PACITAN    157 Terjual  \n",
       "15                Rp2.000.000         KAB. WONOSOBO            NaN  \n",
       "16  Rp1.930.000 - Rp2.330.000    KOTA JAKARTA BARAT            NaN  \n",
       "17                Rp1.800.000           KAB. MADIUN            NaN  \n",
       "18  Rp1.499.000 - Rp1.899.000            KOTA BOGOR     61 Terjual  \n",
       "19                Rp1.699.999           KAB. MALANG            NaN  "
      ]
     },
     "execution_count": 15,
     "metadata": {},
     "output_type": "execute_result"
    }
   ],
   "source": [
    "dataset = pd.read_csv('hasil/hasil_scaping_Redmi 9T_page-0.csv')\n",
    "\n",
    "dataset.head(20)"
   ]
  },
  {
   "cell_type": "code",
   "execution_count": 16,
   "metadata": {},
   "outputs": [
    {
     "data": {
      "text/plain": [
       "merk         0\n",
       "price        0\n",
       "location     0\n",
       "buy         22\n",
       "dtype: int64"
      ]
     },
     "execution_count": 16,
     "metadata": {},
     "output_type": "execute_result"
    }
   ],
   "source": [
    "dataset.isnull().sum()"
   ]
  },
  {
   "cell_type": "code",
   "execution_count": 18,
   "metadata": {},
   "outputs": [
    {
     "data": {
      "text/plain": [
       "0                  Rp1.899.000\n",
       "1    Rp1.280.000 - Rp1.400.000\n",
       "2    Rp1.850.000 - Rp2.350.000\n",
       "3                  Rp3.199.000\n",
       "4    Rp1.125.000 - Rp1.220.000\n",
       "Name: price, dtype: object"
      ]
     },
     "execution_count": 18,
     "metadata": {},
     "output_type": "execute_result"
    }
   ],
   "source": [
    "data_price = dataset['price']\n",
    "\n",
    "data_price.head()"
   ]
  },
  {
   "cell_type": "code",
   "execution_count": 19,
   "metadata": {},
   "outputs": [
    {
     "data": {
      "text/plain": [
       "'Rp3.199.000'"
      ]
     },
     "execution_count": 19,
     "metadata": {},
     "output_type": "execute_result"
    }
   ],
   "source": [
    "data_price.max()"
   ]
  },
  {
   "cell_type": "code",
   "execution_count": 14,
   "metadata": {},
   "outputs": [
    {
     "data": {
      "text/plain": [
       "'Rp1.250'"
      ]
     },
     "execution_count": 14,
     "metadata": {},
     "output_type": "execute_result"
    }
   ],
   "source": [
    "data_price.min()"
   ]
  }
 ],
 "metadata": {
  "kernelspec": {
   "display_name": "Python 3.10.4 64-bit",
   "language": "python",
   "name": "python3"
  },
  "language_info": {
   "codemirror_mode": {
    "name": "ipython",
    "version": 3
   },
   "file_extension": ".py",
   "mimetype": "text/x-python",
   "name": "python",
   "nbconvert_exporter": "python",
   "pygments_lexer": "ipython3",
   "version": "3.10.4"
  },
  "orig_nbformat": 4,
  "vscode": {
   "interpreter": {
    "hash": "5685a135e92ac552e415bbf2c469fb5f0510d4bb231ecd69865a8486da96369f"
   }
  }
 },
 "nbformat": 4,
 "nbformat_minor": 2
}
